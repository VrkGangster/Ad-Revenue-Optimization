{
 "cells": [
  {
   "cell_type": "code",
   "execution_count": 1,
   "metadata": {},
   "outputs": [],
   "source": [
    "import numpy as np\n",
    "import pandas as pd\n",
    "import matplotlib.pyplot as plt\n",
    "import seaborn as sns\n",
    "%matplotlib inline"
   ]
  },
  {
   "cell_type": "code",
   "execution_count": 2,
   "metadata": {},
   "outputs": [],
   "source": [
    "df=pd.read_csv(\"BMSDETAILDAY1 - Sheet1 (1).csv\")"
   ]
  },
  {
   "cell_type": "code",
   "execution_count": 3,
   "metadata": {},
   "outputs": [
    {
     "data": {
      "text/html": [
       "<div>\n",
       "<style scoped>\n",
       "    .dataframe tbody tr th:only-of-type {\n",
       "        vertical-align: middle;\n",
       "    }\n",
       "\n",
       "    .dataframe tbody tr th {\n",
       "        vertical-align: top;\n",
       "    }\n",
       "\n",
       "    .dataframe thead th {\n",
       "        text-align: right;\n",
       "    }\n",
       "</style>\n",
       "<table border=\"1\" class=\"dataframe\">\n",
       "  <thead>\n",
       "    <tr style=\"text-align: right;\">\n",
       "      <th></th>\n",
       "      <th>BookingNumber</th>\n",
       "      <th>BrandCode</th>\n",
       "      <th>ProgramCode</th>\n",
       "      <th>TapeCode</th>\n",
       "      <th>TapeDuration</th>\n",
       "      <th>ScheduleDate</th>\n",
       "      <th>SpotRate</th>\n",
       "      <th>StartTime</th>\n",
       "      <th>EndTime</th>\n",
       "    </tr>\n",
       "  </thead>\n",
       "  <tbody>\n",
       "    <tr>\n",
       "      <th>0</th>\n",
       "      <td>18101001S</td>\n",
       "      <td>INMOK00001</td>\n",
       "      <td>INBHA00046</td>\n",
       "      <td>INMOK00015</td>\n",
       "      <td>10</td>\n",
       "      <td>2018-10-01 0:00:00</td>\n",
       "      <td>200.0</td>\n",
       "      <td>NaN</td>\n",
       "      <td>NaN</td>\n",
       "    </tr>\n",
       "    <tr>\n",
       "      <th>1</th>\n",
       "      <td>18101001S</td>\n",
       "      <td>INMOK00001</td>\n",
       "      <td>INBHA00046</td>\n",
       "      <td>INMOK00016</td>\n",
       "      <td>15</td>\n",
       "      <td>2018-10-01 0:00:00</td>\n",
       "      <td>200.0</td>\n",
       "      <td>NaN</td>\n",
       "      <td>NaN</td>\n",
       "    </tr>\n",
       "    <tr>\n",
       "      <th>2</th>\n",
       "      <td>18101001S</td>\n",
       "      <td>INMOK00001</td>\n",
       "      <td>INBHA00046</td>\n",
       "      <td>INMOK00017</td>\n",
       "      <td>15</td>\n",
       "      <td>2018-10-01 0:00:00</td>\n",
       "      <td>200.0</td>\n",
       "      <td>NaN</td>\n",
       "      <td>NaN</td>\n",
       "    </tr>\n",
       "    <tr>\n",
       "      <th>3</th>\n",
       "      <td>18101001S</td>\n",
       "      <td>INMOK00001</td>\n",
       "      <td>INPRA00027</td>\n",
       "      <td>INMOK00015</td>\n",
       "      <td>10</td>\n",
       "      <td>2018-10-01 0:00:00</td>\n",
       "      <td>200.0</td>\n",
       "      <td>NaN</td>\n",
       "      <td>NaN</td>\n",
       "    </tr>\n",
       "    <tr>\n",
       "      <th>4</th>\n",
       "      <td>18101001S</td>\n",
       "      <td>INMOK00001</td>\n",
       "      <td>INPRA00027</td>\n",
       "      <td>INMOK00016</td>\n",
       "      <td>15</td>\n",
       "      <td>2018-10-01 0:00:00</td>\n",
       "      <td>200.0</td>\n",
       "      <td>NaN</td>\n",
       "      <td>NaN</td>\n",
       "    </tr>\n",
       "  </tbody>\n",
       "</table>\n",
       "</div>"
      ],
      "text/plain": [
       "  BookingNumber   BrandCode ProgramCode    TapeCode  TapeDuration  \\\n",
       "0     18101001S  INMOK00001  INBHA00046  INMOK00015            10   \n",
       "1     18101001S  INMOK00001  INBHA00046  INMOK00016            15   \n",
       "2     18101001S  INMOK00001  INBHA00046  INMOK00017            15   \n",
       "3     18101001S  INMOK00001  INPRA00027  INMOK00015            10   \n",
       "4     18101001S  INMOK00001  INPRA00027  INMOK00016            15   \n",
       "\n",
       "         ScheduleDate  SpotRate StartTime EndTime  \n",
       "0  2018-10-01 0:00:00     200.0       NaN     NaN  \n",
       "1  2018-10-01 0:00:00     200.0       NaN     NaN  \n",
       "2  2018-10-01 0:00:00     200.0       NaN     NaN  \n",
       "3  2018-10-01 0:00:00     200.0       NaN     NaN  \n",
       "4  2018-10-01 0:00:00     200.0       NaN     NaN  "
      ]
     },
     "execution_count": 3,
     "metadata": {},
     "output_type": "execute_result"
    }
   ],
   "source": [
    "df.head()"
   ]
  },
  {
   "cell_type": "code",
   "execution_count": 4,
   "metadata": {},
   "outputs": [],
   "source": [
    "df['IsActive']=int(1)\n",
    "df['Scheduled']=int(0)\n",
    "df['Priority']=int(1)\n",
    "df['Held_Back_Value']=0"
   ]
  },
  {
   "cell_type": "code",
   "execution_count": 6,
   "metadata": {},
   "outputs": [
    {
     "data": {
      "text/plain": [
       "<matplotlib.axes._subplots.AxesSubplot at 0x2aefaf5e198>"
      ]
     },
     "execution_count": 6,
     "metadata": {},
     "output_type": "execute_result"
    },
    {
     "data": {
      "image/png": "[encoded data removed]",
      "text/plain": [
       "<Figure size 432x288 with 1 Axes>"
      ]
     },
     "metadata": {},
     "output_type": "display_data"
    }
   ],
   "source": [
    "sns.heatmap(df.isnull(), cbar=False)"
   ]
  },
  {
   "cell_type": "code",
   "execution_count": 8,
   "metadata": {
    "scrolled": false
   },
   "outputs": [],
   "source": [
    "df=df.fillna('1899-12-03 00:00:00')"
   ]
  },
  {
   "cell_type": "code",
   "execution_count": 9,
   "metadata": {},
   "outputs": [
    {
     "data": {
      "text/plain": [
       "<matplotlib.axes._subplots.AxesSubplot at 0x2aefb31e4a8>"
      ]
     },
     "execution_count": 9,
     "metadata": {},
     "output_type": "execute_result"
    },
    {
     "data": {
      "image/png": "[encoded data removed]",
      "text/plain": [
       "<Figure size 432x288 with 1 Axes>"
      ]
     },
     "metadata": {},
     "output_type": "display_data"
    }
   ],
   "source": [
    "sns.heatmap(df.isnull(), cbar=False)"
   ]
  },
  {
   "cell_type": "code",
   "execution_count": 11,
   "metadata": {},
   "outputs": [
    {
     "data": {
      "text/plain": [
       "'1899-12-30 7:00:00'"
      ]
     },
     "execution_count": 11,
     "metadata": {},
     "output_type": "execute_result"
    }
   ],
   "source": [
    "df['StartTime'][6]"
   ]
  },
  {
   "cell_type": "code",
   "execution_count": 12,
   "metadata": {},
   "outputs": [],
   "source": [
    "from datetime import date\n",
    "from datetime import time\n",
    "from datetime import datetime\n",
    "from datetime import timedelta"
   ]
  },
  {
   "cell_type": "code",
   "execution_count": 14,
   "metadata": {},
   "outputs": [],
   "source": [
    "df['StartTime']=(df['StartTime'].astype('str')).str.split(\" \")"
   ]
  },
  {
   "cell_type": "code",
   "execution_count": 15,
   "metadata": {},
   "outputs": [],
   "source": [
    "df['MDStartTime']=df['StartTime'].apply(lambda x : x[-1:])"
   ]
  },
  {
   "cell_type": "code",
   "execution_count": 16,
   "metadata": {},
   "outputs": [],
   "source": [
    "df['EndTime']=(df['EndTime'].astype('str')).str.split(\" \")"
   ]
  },
  {
   "cell_type": "code",
   "execution_count": 17,
   "metadata": {},
   "outputs": [],
   "source": [
    "df['MDEndTime']=df['EndTime'].apply(lambda x : x[-1:])"
   ]
  },
  {
   "cell_type": "code",
   "execution_count": 18,
   "metadata": {},
   "outputs": [],
   "source": [
    "x=df['MDEndTime']\n",
    "x=x.apply(lambda x : x[0])"
   ]
  },
  {
   "cell_type": "code",
   "execution_count": 19,
   "metadata": {},
   "outputs": [],
   "source": [
    "df['MDEndTime']=x"
   ]
  },
  {
   "cell_type": "code",
   "execution_count": 20,
   "metadata": {},
   "outputs": [],
   "source": [
    "x=df['MDStartTime']\n",
    "x=x.apply(lambda x : x[0])\n",
    "df['MDStartTime']=x"
   ]
  },
  {
   "cell_type": "code",
   "execution_count": 21,
   "metadata": {},
   "outputs": [
    {
     "data": {
      "text/plain": [
       "8"
      ]
     },
     "execution_count": 21,
     "metadata": {},
     "output_type": "execute_result"
    }
   ],
   "source": [
    "len(str(df['MDEndTime'][0]))"
   ]
  },
  {
   "cell_type": "code",
   "execution_count": 22,
   "metadata": {},
   "outputs": [],
   "source": [
    "def mdtime(x):\n",
    "    y=timedelta(seconds=0)\n",
    "    leng=len(str(x))\n",
    "    s1=int(x[leng-1])\n",
    "    s2=int(x[leng-2])\n",
    "    y=y+timedelta(seconds=s1+s2*10)\n",
    "    m1=int(x[leng-4])\n",
    "    m2=int(x[leng-5])\n",
    "    y=y+timedelta(minutes=m1+m2*10)\n",
    "    h1=int(x[leng-7])\n",
    "    if leng>7:\n",
    "        h2=int(x[leng-8])\n",
    "    else: \n",
    "        h2=0\n",
    "    y=y+timedelta(hours=h1+h2*10)\n",
    "    return y\n",
    "df['MDEndTime']=df['MDEndTime'].apply(mdtime)\n",
    "df['MDStartTime']=df['MDStartTime'].apply(mdtime)\n",
    "    "
   ]
  },
  {
   "cell_type": "code",
   "execution_count": 23,
   "metadata": {},
   "outputs": [],
   "source": [
    "CurrentClock=timedelta(seconds=0)"
   ]
  },
  {
   "cell_type": "code",
   "execution_count": 24,
   "metadata": {},
   "outputs": [],
   "source": [
    "MaximumClock=timedelta(days=1)"
   ]
  },
  {
   "cell_type": "code",
   "execution_count": 25,
   "metadata": {},
   "outputs": [],
   "source": [
    "global j\n",
    "\n",
    "def startup():\n",
    "    a=2\n",
    "    global df\n",
    "    global finallog\n",
    "    finallog=pd.DataFrame(columns=('CurrentTime','BookingNumber','Duration','BrandCode','TapeCode'))\n",
    "    j=0\n",
    "    print(\"Enter the time you want to start scheduling from in seconds, minutes and hours\")\n",
    "    s=int(input())\n",
    "    m=int(input())\n",
    "    h=int(input())\n",
    "    CurrentClock=timedelta(seconds=s,minutes=m,hours=h)\n",
    "    while (CurrentClock<MaximumClock):\n",
    "        print(\"Enter the program segment's program code and duration in mins and seconds\")\n",
    "        CurrentProgramCode=str(input())\n",
    "        m=int(input())\n",
    "        s=int(input())\n",
    "        df_2=pd.DataFrame(data={'CurrentTime':[CurrentClock],'BookingNumber':[\"\"],'Duration':[timedelta(seconds=s, minutes=m)],'BrandCode':[\"\"],'TapeCode':[CurrentProgramCode]})\n",
    "        finallog=pd.concat([finallog,df_2],axis=0)\n",
    "        print(finallog)\n",
    "        CurrentClock=CurrentClock+timedelta(seconds=s,minutes=m)\n",
    "        print(\"Enter the break duration in seconds\")\n",
    "        break_time=int(input())\n",
    "        Newbreak(CurrentProgramCode)\n",
    "        limit=CurrentClock+timedelta(seconds=break_time)\n",
    "        while(CurrentClock<limit):\n",
    "            Prioritize()\n",
    "            sort()\n",
    "            a, tempdf=addadv(CurrentClock)\n",
    "            if(a==1):\n",
    "                CurrentClock=CurrentClock+pd.Timedelta(seconds=df['TapeDuration'][1])\n",
    "                df=df.iloc[1:]\n",
    "                df.reset_index(drop=True, inplace=True)\n",
    "                pd.concat([finallog,tempdf],axis=0)\n",
    "            if(a==0): break \n",
    "    print(\"Day scheduling is over\")        \n",
    "            "
   ]
  },
  {
   "cell_type": "code",
   "execution_count": 26,
   "metadata": {},
   "outputs": [],
   "source": [
    "def Newbreak(CurrentProgramCode):\n",
    "    x=np.ones(len(df))\n",
    "    y=np.ones(len(df))*0\n",
    "    i=0\n",
    "    for row in df.iterrows():\n",
    "        if(row[1]['IsActive']==0): \n",
    "            y=0\n",
    "        else: \n",
    "            y=((row[1]['Held_Back_Value'])*6+1)/6  #heldbackvalue\n",
    "        if(str(row[1]['ProgramCode'])!=CurrentProgramCode):\n",
    "            x[i]=0\n",
    "        if(row[1]['MDStartTime']!=row[1]['MDEndTime']):\n",
    "            if(CurrentClock<row[1]['MDStartTime'] or CurrentClock>row[1]['MDEndTime']):\n",
    "                x[i]=0\n",
    "        i+=1\n",
    "    df['IsActive'].iloc[0:]=x[0:]\n",
    "    df['Held_Back_Value'].iloc[0:]=y\n",
    "    #print(df['Held_Back_Value'],y)"
   ]
  },
  {
   "cell_type": "code",
   "execution_count": 27,
   "metadata": {},
   "outputs": [
    {
     "data": {
      "text/html": [
       "<div>\n",
       "<style scoped>\n",
       "    .dataframe tbody tr th:only-of-type {\n",
       "        vertical-align: middle;\n",
       "    }\n",
       "\n",
       "    .dataframe tbody tr th {\n",
       "        vertical-align: top;\n",
       "    }\n",
       "\n",
       "    .dataframe thead th {\n",
       "        text-align: right;\n",
       "    }\n",
       "</style>\n",
       "<table border=\"1\" class=\"dataframe\">\n",
       "  <thead>\n",
       "    <tr style=\"text-align: right;\">\n",
       "      <th></th>\n",
       "      <th>BookingNumber</th>\n",
       "      <th>BrandCode</th>\n",
       "      <th>ProgramCode</th>\n",
       "      <th>TapeCode</th>\n",
       "      <th>TapeDuration</th>\n",
       "      <th>ScheduleDate</th>\n",
       "      <th>SpotRate</th>\n",
       "      <th>StartTime</th>\n",
       "      <th>EndTime</th>\n",
       "      <th>IsActive</th>\n",
       "      <th>Scheduled</th>\n",
       "      <th>Priority</th>\n",
       "      <th>Held_Back_Value</th>\n",
       "      <th>MDStartTime</th>\n",
       "      <th>MDEndTime</th>\n",
       "    </tr>\n",
       "  </thead>\n",
       "  <tbody>\n",
       "    <tr>\n",
       "      <th>0</th>\n",
       "      <td>18101001S</td>\n",
       "      <td>INMOK00001</td>\n",
       "      <td>INBHA00046</td>\n",
       "      <td>INMOK00015</td>\n",
       "      <td>10</td>\n",
       "      <td>2018-10-01 0:00:00</td>\n",
       "      <td>200.0</td>\n",
       "      <td>[1899-12-03, 00:00:00]</td>\n",
       "      <td>[1899-12-03, 00:00:00]</td>\n",
       "      <td>1</td>\n",
       "      <td>0</td>\n",
       "      <td>1</td>\n",
       "      <td>0</td>\n",
       "      <td>0 days</td>\n",
       "      <td>0 days</td>\n",
       "    </tr>\n",
       "    <tr>\n",
       "      <th>1</th>\n",
       "      <td>18101001S</td>\n",
       "      <td>INMOK00001</td>\n",
       "      <td>INBHA00046</td>\n",
       "      <td>INMOK00016</td>\n",
       "      <td>15</td>\n",
       "      <td>2018-10-01 0:00:00</td>\n",
       "      <td>200.0</td>\n",
       "      <td>[1899-12-03, 00:00:00]</td>\n",
       "      <td>[1899-12-03, 00:00:00]</td>\n",
       "      <td>1</td>\n",
       "      <td>0</td>\n",
       "      <td>1</td>\n",
       "      <td>0</td>\n",
       "      <td>0 days</td>\n",
       "      <td>0 days</td>\n",
       "    </tr>\n",
       "    <tr>\n",
       "      <th>2</th>\n",
       "      <td>18101001S</td>\n",
       "      <td>INMOK00001</td>\n",
       "      <td>INBHA00046</td>\n",
       "      <td>INMOK00017</td>\n",
       "      <td>15</td>\n",
       "      <td>2018-10-01 0:00:00</td>\n",
       "      <td>200.0</td>\n",
       "      <td>[1899-12-03, 00:00:00]</td>\n",
       "      <td>[1899-12-03, 00:00:00]</td>\n",
       "      <td>1</td>\n",
       "      <td>0</td>\n",
       "      <td>1</td>\n",
       "      <td>0</td>\n",
       "      <td>0 days</td>\n",
       "      <td>0 days</td>\n",
       "    </tr>\n",
       "    <tr>\n",
       "      <th>3</th>\n",
       "      <td>18101001S</td>\n",
       "      <td>INMOK00001</td>\n",
       "      <td>INPRA00027</td>\n",
       "      <td>INMOK00015</td>\n",
       "      <td>10</td>\n",
       "      <td>2018-10-01 0:00:00</td>\n",
       "      <td>200.0</td>\n",
       "      <td>[1899-12-03, 00:00:00]</td>\n",
       "      <td>[1899-12-03, 00:00:00]</td>\n",
       "      <td>1</td>\n",
       "      <td>0</td>\n",
       "      <td>1</td>\n",
       "      <td>0</td>\n",
       "      <td>0 days</td>\n",
       "      <td>0 days</td>\n",
       "    </tr>\n",
       "    <tr>\n",
       "      <th>4</th>\n",
       "      <td>18101001S</td>\n",
       "      <td>INMOK00001</td>\n",
       "      <td>INPRA00027</td>\n",
       "      <td>INMOK00016</td>\n",
       "      <td>15</td>\n",
       "      <td>2018-10-01 0:00:00</td>\n",
       "      <td>200.0</td>\n",
       "      <td>[1899-12-03, 00:00:00]</td>\n",
       "      <td>[1899-12-03, 00:00:00]</td>\n",
       "      <td>1</td>\n",
       "      <td>0</td>\n",
       "      <td>1</td>\n",
       "      <td>0</td>\n",
       "      <td>0 days</td>\n",
       "      <td>0 days</td>\n",
       "    </tr>\n",
       "  </tbody>\n",
       "</table>\n",
       "</div>"
      ],
      "text/plain": [
       "  BookingNumber   BrandCode ProgramCode    TapeCode  TapeDuration  \\\n",
       "0     18101001S  INMOK00001  INBHA00046  INMOK00015            10   \n",
       "1     18101001S  INMOK00001  INBHA00046  INMOK00016            15   \n",
       "2     18101001S  INMOK00001  INBHA00046  INMOK00017            15   \n",
       "3     18101001S  INMOK00001  INPRA00027  INMOK00015            10   \n",
       "4     18101001S  INMOK00001  INPRA00027  INMOK00016            15   \n",
       "\n",
       "         ScheduleDate  SpotRate               StartTime  \\\n",
       "0  2018-10-01 0:00:00     200.0  [1899-12-03, 00:00:00]   \n",
       "1  2018-10-01 0:00:00     200.0  [1899-12-03, 00:00:00]   \n",
       "2  2018-10-01 0:00:00     200.0  [1899-12-03, 00:00:00]   \n",
       "3  2018-10-01 0:00:00     200.0  [1899-12-03, 00:00:00]   \n",
       "4  2018-10-01 0:00:00     200.0  [1899-12-03, 00:00:00]   \n",
       "\n",
       "                  EndTime  IsActive  Scheduled  Priority  Held_Back_Value  \\\n",
       "0  [1899-12-03, 00:00:00]         1          0         1                0   \n",
       "1  [1899-12-03, 00:00:00]         1          0         1                0   \n",
       "2  [1899-12-03, 00:00:00]         1          0         1                0   \n",
       "3  [1899-12-03, 00:00:00]         1          0         1                0   \n",
       "4  [1899-12-03, 00:00:00]         1          0         1                0   \n",
       "\n",
       "  MDStartTime MDEndTime  \n",
       "0      0 days    0 days  \n",
       "1      0 days    0 days  \n",
       "2      0 days    0 days  \n",
       "3      0 days    0 days  \n",
       "4      0 days    0 days  "
      ]
     },
     "execution_count": 27,
     "metadata": {},
     "output_type": "execute_result"
    }
   ],
   "source": [
    "df.head()"
   ]
  },
  {
   "cell_type": "code",
   "execution_count": 29,
   "metadata": {},
   "outputs": [],
   "source": [
    "maxsp=df['SpotRate'].max()\n",
    "minsp=df['SpotRate'].min()"
   ]
  },
  {
   "cell_type": "code",
   "execution_count": 30,
   "metadata": {},
   "outputs": [],
   "source": [
    "normalize = lambda x : (x-minsp)/(maxsp-minsp)"
   ]
  },
  {
   "cell_type": "code",
   "execution_count": 32,
   "metadata": {},
   "outputs": [
    {
     "name": "stderr",
     "output_type": "stream",
     "text": [
      "C:\\Users\\Joel\\Anaconda\\lib\\site-packages\\matplotlib\\axes\\_axes.py:6462: UserWarning: The 'normed' kwarg is deprecated, and has been replaced by the 'density' kwarg.\n",
      "  warnings.warn(\"The 'normed' kwarg is deprecated, and has been \"\n"
     ]
    },
    {
     "data": {
      "text/plain": [
       "<matplotlib.axes._subplots.AxesSubplot at 0x2aefb3d02b0>"
      ]
     },
     "execution_count": 32,
     "metadata": {},
     "output_type": "execute_result"
    },
    {
     "data": {
      "image/png": "[encoded data removed]",
      "text/plain": [
       "<Figure size 432x288 with 1 Axes>"
      ]
     },
     "metadata": {},
     "output_type": "display_data"
    }
   ],
   "source": [
    "sns.distplot(df['SpotRate'], 50, True)"
   ]
  },
  {
   "cell_type": "code",
   "execution_count": 33,
   "metadata": {},
   "outputs": [],
   "source": [
    "KMeanCentres=np.array([1/6,0.5,5/6])"
   ]
  },
  {
   "cell_type": "code",
   "execution_count": 34,
   "metadata": {},
   "outputs": [],
   "source": [
    "from sklearn.cluster import KMeans\n",
    "kmeans=KMeans(3,'k-means++',15,300)"
   ]
  },
  {
   "cell_type": "code",
   "execution_count": 35,
   "metadata": {},
   "outputs": [],
   "source": [
    "spotrate=np.array(normalize(df['SpotRate']))\n",
    "spotrate=spotrate.reshape(-1,1)\n",
    "pred=kmeans.fit(spotrate)"
   ]
  },
  {
   "cell_type": "code",
   "execution_count": 36,
   "metadata": {},
   "outputs": [],
   "source": [
    "centspr=kmeans.cluster_centers_\n",
    "centpri=KMeanCentres"
   ]
  },
  {
   "cell_type": "code",
   "execution_count": 37,
   "metadata": {},
   "outputs": [],
   "source": [
    "CentCoord=np.ones((9,2),dtype=np.complex_)\n",
    "a=0\n",
    "for i in centpri:\n",
    "    for j in centspr:\n",
    "        CentCoord[a][0]=i\n",
    "        CentCoord[a][1]=j\n",
    "        a=a+1"
   ]
  },
  {
   "cell_type": "code",
   "execution_count": 42,
   "metadata": {},
   "outputs": [],
   "source": [
    "import math\n",
    "def Prioritize():\n",
    "    temp=np.zeros(9)\n",
    "    x=np.ones(len(df))\n",
    "    j=0\n",
    "    for rows in df.iterrows():\n",
    "        i=0\n",
    "        while(i<9):\n",
    "            temp[i]=(((float(CentCoord[i][0])-float(rows[1][12]))**2+(float(CentCoord[i][1])-float(normalize(rows[1][6]))**2)))\n",
    "            i+=1\n",
    "        tmp=temp.min()\n",
    "        for num,tup in enumerate(temp):\n",
    "            if tup==tmp: x[j]=num\n",
    "        j+=1\n",
    "    df['Priority']=x\n",
    "def sort():\n",
    "    df.sort_values(by=['IsActive','Priority'],ascending=False,inplace=True)\n",
    "    df.reset_index(drop=True,inplace=True)"
   ]
  },
  {
   "cell_type": "code",
   "execution_count": 64,
   "metadata": {},
   "outputs": [],
   "source": [
    "def addadv(CurrentClock):\n",
    "    x=np.ones(len(df))\n",
    "    if(df['IsActive'][0]==1):# IS NOT GETTING SATISFIED AT ALL ALL ISACTIVE 0\n",
    "        #tempdf=pd.DataFrame(columns=('CurrentTime','BookingNumber','Duration','BrandCode','TapeCode')\n",
    "        #tempdf=tempdf.append(pd.Series([CurrentClock,df['BookingNumber'][0],pd.Timedelta(seconds=df['TapeDuration'][0]),df['BrandCode'][0],df['TapeCode'][0]]))\n",
    "        tempdf=pd.DataFrame(data={'CurrentTime':[CurrentClock],'BookingNumber':[df['BookingNumber'][0]],'Duration':[timedelta(seconds=int(df['TapeDuration'][0]))],'BrandCode':[df['BrandCode'][0]],'TapeCode':[df['TapeCode'][0]]})\n",
    "        print(tempdf)\n",
    "        i=0\n",
    "        for row in df.iterrows():\n",
    "            if (row[1]['BrandCode']==df['BrandCode'][0]):\n",
    "                x[i]=0\n",
    "            elif (row[1]['IsActive']==1):\n",
    "                x[i]=1\n",
    "            i+=1\n",
    "        df['IsActive'].iloc[0:]=x[0:]\n",
    "#       for i in range(1,len(df)):\n",
    "#            if(df['IsActive'][i]==1 and x[i]==1):\n",
    "#                temp=1 \n",
    "#            else: \n",
    "#                temp=0\n",
    "#            df['IsActive'].iloc[i]=temp\n",
    "#         print(df['IsActive'].iloc[i])\n",
    "        pd.concat([finallog,tempdf])\n",
    "        return 1, tempdf\n",
    "    else:print('Ads exhausted for this break') \n",
    "    return 0, None"
   ]
  },
  {
   "cell_type": "code",
   "execution_count": null,
   "metadata": {},
   "outputs": [],
   "source": [
    "#startup()"
   ]
  }
 ],
 "metadata": {
  "kernelspec": {
   "display_name": "Python 3",
   "language": "python",
   "name": "python3"
  },
  "language_info": {
   "codemirror_mode": {
    "name": "ipython",
    "version": 3
   },
   "file_extension": ".py",
   "mimetype": "text/x-python",
   "name": "python",
   "nbconvert_exporter": "python",
   "pygments_lexer": "ipython3",
   "version": "3.6.5"
  }
 },
 "nbformat": 4,
 "nbformat_minor": 2
}
